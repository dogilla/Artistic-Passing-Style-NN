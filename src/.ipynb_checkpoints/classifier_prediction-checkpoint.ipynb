{
 "cells": [
  {
   "cell_type": "code",
   "execution_count": 3,
   "metadata": {},
   "outputs": [],
   "source": [
    "#importamos las bibliotecas y el modelo del notebook \"Art_classifier_model\"\n",
    "import cv2\n",
    "import numpy as np \n",
    "import matplotlib.pyplot as plt\n",
    "import tensorflow as tf\n",
    "\n",
    "model = tf.keras.models.load_model('art_classifier.model')\n"
   ]
  },
  {
   "cell_type": "code",
   "execution_count": 16,
   "metadata": {},
   "outputs": [],
   "source": [
    "CATEGORIES = [\"abstracto\",\"impresionista\",\"puntillista\"]\n",
    "\n",
    "def prepare(filepath):\n",
    "    IMG_SIZE = 100  # 50 in txt-based\n",
    "    img_array = cv2.imread(filepath)  # read in the image\n",
    "    new_array = cv2.resize(img_array, (IMG_SIZE, IMG_SIZE))  \n",
    "    return new_array.reshape(-1, IMG_SIZE, IMG_SIZE, 3)  \n"
   ]
  },
  {
   "cell_type": "code",
   "execution_count": 23,
   "metadata": {},
   "outputs": [
    {
     "name": "stdout",
     "output_type": "stream",
     "text": [
      "impresionista\n",
      "impresionista\n"
     ]
    }
   ],
   "source": [
    "prediction = model.predict([prepare(\"descarga.jpg\")])\n",
    "print(CATEGORIES[int(prediction[0][0])])\n",
    "\n",
    "prediction = model.predict([prepare(\"t2.jpg\")])\n",
    "print(CATEGORIES[int(prediction[0][0])])\n"
   ]
  },
  {
   "cell_type": "code",
   "execution_count": null,
   "metadata": {},
   "outputs": [],
   "source": []
  }
 ],
 "metadata": {
  "kernelspec": {
   "display_name": "Python 3",
   "language": "python",
   "name": "python3"
  },
  "language_info": {
   "codemirror_mode": {
    "name": "ipython",
    "version": 3
   },
   "file_extension": ".py",
   "mimetype": "text/x-python",
   "name": "python",
   "nbconvert_exporter": "python",
   "pygments_lexer": "ipython3",
   "version": "3.5.6"
  }
 },
 "nbformat": 4,
 "nbformat_minor": 4
}
